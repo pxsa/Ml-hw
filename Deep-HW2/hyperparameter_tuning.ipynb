{
 "cells": [
  {
   "cell_type": "code",
   "execution_count": 47,
   "id": "f79e6b58",
   "metadata": {},
   "outputs": [],
   "source": [
    "import numpy as np\n",
    "import pandas as pd\n",
    "from tensorflow.keras.models import Sequential\n",
    "from tensorflow.keras.layers import Dense\n",
    "from scikeras.wrappers import KerasClassifier\n",
    "from sklearn.model_selection import GridSearchCV, train_test_split\n",
    "from tensorflow.keras.optimizers import SGD\n",
    "from sklearn.preprocessing import StandardScaler\n"
   ]
  },
  {
   "cell_type": "markdown",
   "id": "803a3462",
   "metadata": {},
   "source": [
    "# GridSearchCV"
   ]
  },
  {
   "cell_type": "code",
   "execution_count": null,
   "id": "3c730be2",
   "metadata": {},
   "outputs": [],
   "source": [
    "# Load dataset\n",
    "path = '../Heart_disease_cleveland_new.csv'\n",
    "df = pd.read_csv(path)  \n",
    "\n",
    "# Preprocess\n",
    "X = df.drop(\"target\", axis=1).values\n",
    "y = df[\"target\"].values\n",
    "\n",
    "scaler = StandardScaler()\n",
    "X = scaler.fit_transform(X)\n",
    "\n",
    "X_train, X_val, y_train, y_val = train_test_split(X, y, test_size=0.2, random_state=42)\n"
   ]
  },
  {
   "cell_type": "code",
   "execution_count": 44,
   "id": "fe667e25",
   "metadata": {},
   "outputs": [],
   "source": [
    "def build_model(hidden_layers=1, neurons=(32,), activation='relu', optimizer='adam', learning_rate=0.01):\n",
    "    model = Sequential()\n",
    "    model.add(Dense(neurons[0], activation=activation, input_shape=(X.shape[1],)))\n",
    "\n",
    "    if hidden_layers == 2 and len(neurons) > 1:\n",
    "        model.add(Dense(neurons[1], activation=activation))\n",
    "\n",
    "    model.add(Dense(1, activation='sigmoid'))\n",
    "\n",
    "    if optimizer == 'SGD':\n",
    "        opt = SGD(learning_rate=learning_rate)\n",
    "    else:\n",
    "        opt = SGD(learning_rate=learning_rate)\n",
    "\n",
    "    model.compile(optimizer=opt, loss='binary_crossentropy', metrics=['accuracy'])\n",
    "    return model\n"
   ]
  },
  {
   "cell_type": "code",
   "execution_count": 37,
   "id": "3bce63bc",
   "metadata": {},
   "outputs": [],
   "source": [
    "from scikeras.wrappers import KerasClassifier\n",
    "\n",
    "clf = KerasClassifier(\n",
    "    model=build_model,\n",
    "    hidden_layers=1,\n",
    "    neurons=(32,),\n",
    "    activation='relu',\n",
    "    optimizer='adam',\n",
    "    learning_rate=0.01,\n",
    "    epochs=10,\n",
    "    batch_size=32,\n",
    "    verbose=0\n",
    ")"
   ]
  },
  {
   "cell_type": "code",
   "execution_count": 38,
   "id": "9b1a83d8",
   "metadata": {},
   "outputs": [],
   "source": [
    "param_grid = {\n",
    "    'hidden_layers': [1, 2],\n",
    "    'neurons': [(32,), (64, 32)],\n",
    "    'activation': ['relu'],\n",
    "    'optimizer': ['adam', 'SGD'],\n",
    "    'learning_rate': [0.01, 0.001],\n",
    "    'batch_size': [32],\n",
    "    'epochs': [10]\n",
    "}"
   ]
  },
  {
   "cell_type": "code",
   "execution_count": 39,
   "id": "e9d48833",
   "metadata": {},
   "outputs": [
    {
     "name": "stdout",
     "output_type": "stream",
     "text": [
      "WARNING:tensorflow:5 out of the last 15 calls to <function Model.make_predict_function.<locals>.predict_function at 0x000001D5D71216C0> triggered tf.function retracing. Tracing is expensive and the excessive number of tracings could be due to (1) creating @tf.function repeatedly in a loop, (2) passing tensors with different shapes, (3) passing Python objects instead of tensors. For (1), please define your @tf.function outside of the loop. For (2), @tf.function has reduce_retracing=True option that can avoid unnecessary retracing. For (3), please refer to https://www.tensorflow.org/guide/function#controlling_retracing and https://www.tensorflow.org/api_docs/python/tf/function for  more details.\n",
      "WARNING:tensorflow:5 out of the last 13 calls to <function Model.make_predict_function.<locals>.predict_function at 0x000001D5D70AAFC0> triggered tf.function retracing. Tracing is expensive and the excessive number of tracings could be due to (1) creating @tf.function repeatedly in a loop, (2) passing tensors with different shapes, (3) passing Python objects instead of tensors. For (1), please define your @tf.function outside of the loop. For (2), @tf.function has reduce_retracing=True option that can avoid unnecessary retracing. For (3), please refer to https://www.tensorflow.org/guide/function#controlling_retracing and https://www.tensorflow.org/api_docs/python/tf/function for  more details.\n",
      "Best score: 0.8180555555555555\n",
      "Best params: {'activation': 'relu', 'batch_size': 32, 'epochs': 10, 'hidden_layers': 2, 'learning_rate': 0.01, 'neurons': (32,), 'optimizer': 'SGD'}\n"
     ]
    }
   ],
   "source": [
    "from sklearn.model_selection import GridSearchCV\n",
    "\n",
    "grid = GridSearchCV(estimator=clf, param_grid=param_grid, cv=3)\n",
    "grid.fit(X_train, y_train)\n",
    "\n",
    "print(\"Best score:\", grid.best_score_)\n",
    "print(\"Best params:\", grid.best_params_)"
   ]
  },
  {
   "cell_type": "markdown",
   "id": "b792bc90",
   "metadata": {},
   "source": [
    "# RandomizedSearchCV"
   ]
  },
  {
   "cell_type": "code",
   "execution_count": 40,
   "id": "3b47a842",
   "metadata": {},
   "outputs": [],
   "source": [
    "from sklearn.model_selection import RandomizedSearchCV"
   ]
  },
  {
   "cell_type": "code",
   "execution_count": 41,
   "id": "9eb24842",
   "metadata": {},
   "outputs": [],
   "source": [
    "param_distributions = {\n",
    "    'hidden_layers': [1, 2],\n",
    "    'neurons': [(32,), (64, 32), (16,), (32, 16)],\n",
    "    'activation': ['relu'],\n",
    "    'optimizer': ['adam', 'SGD'],\n",
    "    'learning_rate': [0.01, 0.001, 0.005],\n",
    "    'batch_size': [16, 32],\n",
    "    'epochs': [50]\n",
    "}"
   ]
  },
  {
   "cell_type": "code",
   "execution_count": 45,
   "id": "a6d43e05",
   "metadata": {},
   "outputs": [],
   "source": [
    "from scikeras.wrappers import KerasClassifier\n",
    "\n",
    "clf = KerasClassifier(\n",
    "    model=build_model,\n",
    "    hidden_layers=1,\n",
    "    neurons=(32,),\n",
    "    activation='relu',\n",
    "    optimizer='adam',\n",
    "    learning_rate=0.01,\n",
    "    epochs=50,\n",
    "    batch_size=32,\n",
    "    verbose=0\n",
    ")\n"
   ]
  },
  {
   "cell_type": "code",
   "execution_count": 46,
   "id": "db9d5a47",
   "metadata": {},
   "outputs": [
    {
     "name": "stdout",
     "output_type": "stream",
     "text": [
      "Fitting 3 folds for each of 10 candidates, totalling 30 fits\n",
      "Best params: {'optimizer': 'adam', 'neurons': (32,), 'learning_rate': 0.01, 'hidden_layers': 1, 'epochs': 50, 'batch_size': 32, 'activation': 'relu'}\n",
      "Best score: 0.8099279835390947\n"
     ]
    }
   ],
   "source": [
    "from sklearn.model_selection import RandomizedSearchCV\n",
    "\n",
    "param_distributions = {\n",
    "    'hidden_layers': [1, 2],\n",
    "    'neurons': [(32,), (64, 32), (16,), (32, 16)],\n",
    "    'activation': ['relu'],\n",
    "    'optimizer': ['adam', 'SGD'],\n",
    "    'learning_rate': [0.01, 0.001, 0.005],\n",
    "    'batch_size': [16, 32],\n",
    "    'epochs': [50]\n",
    "}\n",
    "\n",
    "random_search = RandomizedSearchCV(\n",
    "    estimator=clf,\n",
    "    param_distributions=param_distributions,\n",
    "    n_iter=10,  # Try 10 random combinations\n",
    "    cv=3,\n",
    "    verbose=1,\n",
    "    n_jobs=-1\n",
    ")\n",
    "\n",
    "random_search.fit(X_train, y_train)\n",
    "\n",
    "print(\"Best params:\", random_search.best_params_)\n",
    "print(\"Best score:\", random_search.best_score_)"
   ]
  }
 ],
 "metadata": {
  "kernelspec": {
   "display_name": "tf_env",
   "language": "python",
   "name": "python3"
  },
  "language_info": {
   "codemirror_mode": {
    "name": "ipython",
    "version": 3
   },
   "file_extension": ".py",
   "mimetype": "text/x-python",
   "name": "python",
   "nbconvert_exporter": "python",
   "pygments_lexer": "ipython3",
   "version": "3.11.9"
  }
 },
 "nbformat": 4,
 "nbformat_minor": 5
}
